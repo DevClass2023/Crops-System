{
 "cells": [
  {
   "cell_type": "code",
   "execution_count": null,
   "metadata": {},
   "outputs": [],
   "source": [
    "import pandas as pd\n",
    "import matplotlib.pyplot as plt\n",
    "import seaborn as sns"
   ]
  },
  {
   "cell_type": "code",
   "execution_count": null,
   "metadata": {},
   "outputs": [],
   "source": [
    "\n",
    "fertilizer_data_path = r\"C:\\Users\\B-DEX\\Desktop\\CropPredictionSystem\\Data-processed\\Data-raw\\FertilizerData.csv\"\n",
    "\n",
    "# Load the fertilizer data\n",
    "merge_fert = pd.read_csv(fertilizer_data_path)\n",
    "\n"
   ]
  },
  {
   "cell_type": "code",
   "execution_count": null,
   "metadata": {},
   "outputs": [],
   "source": [
    "merge_fert"
   ]
  },
  {
   "cell_type": "code",
   "execution_count": null,
   "metadata": {},
   "outputs": [],
   "source": [
    "del merge_fert['Unnamed: 0']"
   ]
  },
  {
   "cell_type": "code",
   "execution_count": null,
   "metadata": {},
   "outputs": [],
   "source": [
    "merge_fert.describe()"
   ]
  },
  {
   "cell_type": "code",
   "execution_count": null,
   "metadata": {},
   "outputs": [],
   "source": [
    "merge_fert['Crop'].unique()"
   ]
  },
  {
   "cell_type": "code",
   "execution_count": null,
   "metadata": {},
   "outputs": [],
   "source": [
    "plt.plot(merge_fert[\"N\"])"
   ]
  },
  {
   "cell_type": "code",
   "execution_count": null,
   "metadata": {},
   "outputs": [],
   "source": [
    "plt.plot(merge_fert[\"P\"])"
   ]
  },
  {
   "cell_type": "code",
   "execution_count": null,
   "metadata": {},
   "outputs": [],
   "source": [
    "file_path = r\"C:\\Users\\B-DEX\\Desktop\\CropPredictionSystem\\Data-processed\\Data-raw\\MergeFileCrop.csv\""
   ]
  },
  {
   "cell_type": "code",
   "execution_count": null,
   "metadata": {},
   "outputs": [],
   "source": [
    "# Load the fertilizer data\n",
    "merge_crop = pd.read_csv(fertilizer_data_path)"
   ]
  },
  {
   "cell_type": "code",
   "execution_count": null,
   "metadata": {},
   "outputs": [],
   "source": [
    "merge_crop"
   ]
  },
  {
   "cell_type": "code",
   "execution_count": null,
   "metadata": {},
   "outputs": [],
   "source": [
    "reco_fert = merge_fert"
   ]
  },
  {
   "cell_type": "code",
   "execution_count": null,
   "metadata": {},
   "outputs": [],
   "source": [
    "#Add +/-3 for every NPK value\n",
    "import random\n",
    "temp = pd.DataFrame(columns = ['N','P','K'])\n",
    "for i in range(0,merge_crop.shape[0]):\n",
    "    crop = merge_crop.label.iloc[i]\n",
    "    #print(crop)\n",
    "    N = reco_fert[reco_fert['Crop'] == crop][\"N\"].iloc[0] + random.randint(-20,20)\n",
    "    P = reco_fert[reco_fert['Crop'] == crop][\"P\"].iloc[0] + random.randint(-5,20)\n",
    "    K = reco_fert[reco_fert['Crop'] == crop][\"K\"].iloc[0] + random.randint(-5,5)\n",
    "    d = {\"N\":N,\"P\":P,\"K\":K}\n",
    "    #print(d)\n",
    "    temp = temp.append(d,ignore_index = True)"
   ]
  },
  {
   "cell_type": "code",
   "execution_count": null,
   "metadata": {},
   "outputs": [],
   "source": [
    "merge_crop['N'] = temp['N']\n",
    "merge_crop['P'] = temp['P']\n",
    "merge_crop['K'] = temp['K']"
   ]
  },
  {
   "cell_type": "code",
   "execution_count": null,
   "metadata": {},
   "outputs": [],
   "source": [
    "merge_crop = merge_crop[[ 'N', 'P', 'K','temperature', 'humidity', 'ph', 'rainfall', 'label']]"
   ]
  },
  {
   "cell_type": "code",
   "execution_count": null,
   "metadata": {},
   "outputs": [],
   "source": [
    "merge_crop.to_csv(\"../Data-processed/crop_recommendation.csv\",index=False)"
   ]
  },
  {
   "cell_type": "code",
   "execution_count": null,
   "metadata": {},
   "outputs": [],
   "source": [
    "# Checking if everything went fine\n",
    "df = pd.read_csv('../Data-processed/crop_recommendation.csv')"
   ]
  }
 ],
 "metadata": {
  "kernelspec": {
   "display_name": "env",
   "language": "python",
   "name": "python3"
  },
  "language_info": {
   "codemirror_mode": {
    "name": "ipython",
    "version": 3
   },
   "file_extension": ".py",
   "mimetype": "text/x-python",
   "name": "python",
   "nbconvert_exporter": "python",
   "pygments_lexer": "ipython3",
   "version": "3.11.8"
  }
 },
 "nbformat": 4,
 "nbformat_minor": 2
}
